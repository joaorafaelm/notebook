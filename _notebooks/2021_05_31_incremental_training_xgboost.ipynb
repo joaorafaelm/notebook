{
  "nbformat": 4,
  "nbformat_minor": 0,
  "metadata": {
    "colab": {
      "name": "2021-05-31-incremental_training_xgboost",
      "provenance": [],
      "collapsed_sections": [],
      "authorship_tag": "ABX9TyOAe2xjaSkfMlsD2iJhDe15"
    },
    "kernelspec": {
      "name": "python3",
      "display_name": "Python 3"
    },
    "language_info": {
      "name": "python"
    }
  },
  "cells": [
    {
      "cell_type": "markdown",
      "metadata": {
        "id": "3bghhGrkQgzm"
      },
      "source": [
        "\n",
        "# Incremental training with XGBoost\n",
        "- badges: true\n",
        "- comments: true\n",
        "- categories: [xgboost]\n"
      ]
    },
    {
      "cell_type": "code",
      "metadata": {
        "colab": {
          "base_uri": "https://localhost:8080/"
        },
        "id": "-Echbpu5QwKW",
        "outputId": "710c334a-fb28-4f1a-f557-976364fdd2ac"
      },
      "source": [
        "#collapse-output\n",
        "pip install scikit-learn xgboost"
      ],
      "execution_count": 5,
      "outputs": [
        {
          "output_type": "stream",
          "text": [
            "Requirement already satisfied: scikit-learn in /usr/local/lib/python3.7/dist-packages (0.22.2.post1)\n",
            "Requirement already satisfied: xgboost in /usr/local/lib/python3.7/dist-packages (0.90)\n",
            "Requirement already satisfied: joblib>=0.11 in /usr/local/lib/python3.7/dist-packages (from scikit-learn) (1.0.1)\n",
            "Requirement already satisfied: numpy>=1.11.0 in /usr/local/lib/python3.7/dist-packages (from scikit-learn) (1.19.5)\n",
            "Requirement already satisfied: scipy>=0.17.0 in /usr/local/lib/python3.7/dist-packages (from scikit-learn) (1.4.1)\n"
          ],
          "name": "stdout"
        }
      ]
    },
    {
      "cell_type": "markdown",
      "metadata": {
        "id": "h7fLeFigSVSq"
      },
      "source": [
        "Save your model after you train on the first batch. Then, on successive runs, provide the xgb.train method with the filepath of the saved model.\n",
        "\n",
        "\n",
        "First, split the boston dataset into training and testing sets. Then split the training set into halves. Fit a model with the first half and get a score that will serve as a benchmark. Then fit two models with the second half; one model will have the additional parameter xgb_model. If passing in the extra parameter didn't make a difference, then we would expect their scores to be similar.. But, fortunately, the new model seems to perform much better than the first.\n",
        "\n"
      ]
    },
    {
      "cell_type": "code",
      "metadata": {
        "colab": {
          "base_uri": "https://localhost:8080/"
        },
        "id": "X6WKZv0mQBeq",
        "outputId": "e06c3dc4-0fb5-41e9-8f6c-18e44a0c3b0d"
      },
      "source": [
        "import xgboost as xgb\n",
        "from sklearn.model_selection import train_test_split\n",
        "from sklearn.datasets import load_boston\n",
        "from sklearn.metrics import mean_squared_error\n",
        "\n",
        "X = load_boston()['data']\n",
        "y = load_boston()['target']\n",
        "\n",
        "# split data into training and testing sets\n",
        "# then split training set in half\n",
        "X_train, X_test, y_train, y_test = train_test_split(X, y, test_size=0.1, random_state=0)\n",
        "X_train_1, X_train_2, y_train_1, y_train_2 = train_test_split(\n",
        "    X_train, y_train, test_size=0.5, random_state=0\n",
        ")\n",
        "\n",
        "xg_train_1 = xgb.DMatrix(X_train_1, label=y_train_1)\n",
        "xg_train_2 = xgb.DMatrix(X_train_2, label=y_train_2)\n",
        "xg_test = xgb.DMatrix(X_test, label=y_test)\n",
        "\n",
        "params = {'objective': 'reg:squarederror', 'verbose': False}\n",
        "model_1 = xgb.train(params, xg_train_1, 30)\n",
        "model_1.save_model('model_1.model')\n",
        "\n",
        "# ================= train two versions of the model =====================#\n",
        "model_2_v1 = xgb.train(params, xg_train_2, 30)\n",
        "model_2_v2 = xgb.train(params, xg_train_2, 30, xgb_model='model_1.model')\n",
        "\n",
        "print(mean_squared_error(model_1.predict(xg_test), y_test))     # benchmark\n",
        "print(mean_squared_error(model_2_v1.predict(xg_test), y_test))  # \"before\"\n",
        "print(mean_squared_error(model_2_v2.predict(xg_test), y_test))  # \"after\"\n",
        "\n",
        "# 23.0475232194\n",
        "# 39.6776876084"
      ],
      "execution_count": 10,
      "outputs": [
        {
          "output_type": "stream",
          "text": [
            "21.988532050893138\n",
            "39.677688213388755\n",
            "23.092057209292484\n"
          ],
          "name": "stdout"
        }
      ]
    }
  ]
}