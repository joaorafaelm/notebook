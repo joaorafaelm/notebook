{
  "nbformat": 4,
  "nbformat_minor": 0,
  "metadata": {
    "colab": {
      "name": "Cognitive complexity",
      "provenance": [],
      "collapsed_sections": []
    },
    "kernelspec": {
      "name": "python3",
      "display_name": "Python 3"
    }
  },
  "cells": [
    {
      "cell_type": "markdown",
      "metadata": {
        "id": "wNGzqRxO4eq6"
      },
      "source": [
        "\n",
        "# Cognitive complexity and python\n",
        "- badges: true\n",
        "- comments: true\n",
        "- categories: [python]\n"
      ]
    },
    {
      "cell_type": "markdown",
      "metadata": {
        "id": "eeNhVto140XW"
      },
      "source": [
        "Install dependencies"
      ]
    },
    {
      "cell_type": "code",
      "metadata": {
        "id": "G0wSD1J65I0K",
        "outputId": "b1278442-8d2e-4787-f2c9-5aa5e41adcaf",
        "colab": {
          "base_uri": "https://localhost:8080/"
        }
      },
      "source": [
        "#collapse-output\n",
        "pip install cognitive_complexity astunparse tabulate"
      ],
      "execution_count": 4,
      "outputs": [
        {
          "output_type": "stream",
          "text": [
            "Requirement already satisfied: cognitive_complexity in /usr/local/lib/python3.7/dist-packages (1.2.0)\n",
            "Requirement already satisfied: astunparse in /usr/local/lib/python3.7/dist-packages (1.6.3)\n",
            "Requirement already satisfied: tabulate in /usr/local/lib/python3.7/dist-packages (0.8.9)\n",
            "Requirement already satisfied: setuptools in /usr/local/lib/python3.7/dist-packages (from cognitive_complexity) (57.0.0)\n",
            "Requirement already satisfied: six<2.0,>=1.6.1 in /usr/local/lib/python3.7/dist-packages (from astunparse) (1.15.0)\n",
            "Requirement already satisfied: wheel<1.0,>=0.23.0 in /usr/local/lib/python3.7/dist-packages (from astunparse) (0.36.2)\n"
          ],
          "name": "stdout"
        }
      ]
    },
    {
      "cell_type": "markdown",
      "metadata": {
        "id": "-zfueDmB5VCM"
      },
      "source": [
        "Import and define utils"
      ]
    },
    {
      "cell_type": "code",
      "metadata": {
        "id": "OGtE11woZ2Of"
      },
      "source": [
        "import ast\n",
        "import astunparse\n",
        "from inspect import getsource\n",
        "from tabulate import tabulate\n",
        "from cognitive_complexity.api import get_cognitive_complexity_for_node\n",
        "from cognitive_complexity.utils.ast import has_recursive_calls, is_decorator, process_child_nodes, process_node_itself\n",
        "\n",
        "def get_cognitive_complexity(func):\n",
        "    func = func if isinstance(func, str) else getsource(func)\n",
        "    funcdef = ast.parse(func).body[0]\n",
        "    if is_decorator(funcdef):\n",
        "        return get_cognitive_complexity(funcdef.body[0])\n",
        "\n",
        "    details = []\n",
        "    complexity = 0\n",
        "    for node in funcdef.body:\n",
        "        node_complexity = get_cognitive_complexity_for_node(node)\n",
        "        complexity += node_complexity\n",
        "        node_code = astunparse.unparse(node)\n",
        "        if f\"{funcdef.name}(\" in node_code: # +1 for recursion\n",
        "            node_complexity += 1\n",
        "            complexity += 1\n",
        "        details.append([node_complexity, node_code])\n",
        "    details.append([complexity, \"Total\"])\n",
        "    return complexity, details"
      ],
      "execution_count": 5,
      "outputs": []
    },
    {
      "cell_type": "markdown",
      "metadata": {
        "id": "RZYMUfmS8yRS"
      },
      "source": [
        "###Introduction\n",
        "> Formulated in a Fortran environment in 1976, Cyclomatic Complexity has long been the standard for measuring the complexity of a method’s control flow. It was originally intended “to identify\n",
        "software modules that will be difficult to test or maintain”, but while **it accurately calculates\n",
        "the minimum number of test cases required to fully cover a method, it is not a satisfactory\n",
        "measure of understandability** and it also doesn’t include modern language structures like try/catch,\n",
        "and lambdas.\n",
        "\n",
        "*-- Cognitive Complexity: A new way of measuring understandability, white paper by G. Ann Campbell*"
      ]
    },
    {
      "cell_type": "markdown",
      "metadata": {
        "id": "P7Zhmn4N2vpz"
      },
      "source": [
        "###Basic criteria and methodology\n",
        "As a remedy for these problems, Cognitive Complexity has been formulated to address\n",
        "modern language structures, and to produce values that are meaningful at the class and\n",
        "application levels.\n",
        "A Cognitive Complexity score is assessed according to three basic rules:\n",
        "1. Ignore structures that allow multiple statements to be readably shorthanded into one\n",
        "2. Increment (add one) for each break in the linear flow of the code\n",
        "3. Increment when flow-breaking structures are nested\n",
        "Additionally, a complexity score is made up of four different types of increments:\n",
        "\n",
        "  A. Nesting - assessed for nesting control flow structures inside each other\n",
        "\n",
        "  B. Structural - assessed on control flow structures that are subject to a nesting\n",
        "increment, and that increase the nesting count\n",
        "\n",
        "  C. Fundamental - assessed on statements not subject to a nesting increment\n",
        "  \n",
        "  D. Hybrid - assessed on control flow structures that are not subject to a nesting\n",
        "increment, but which do increase the nesting count\n",
        "\n",
        "*-- Cognitive Complexity: A new way of measuring understandability, white paper by G. Ann Campbell*"
      ]
    },
    {
      "cell_type": "code",
      "metadata": {
        "colab": {
          "base_uri": "https://localhost:8080/"
        },
        "id": "pEpt2PaJb2gX",
        "outputId": "c0b47cc8-27b2-41d6-d6a6-a77c0bad47ae"
      },
      "source": [
        "def f(n):\n",
        "    if n > 10:\n",
        "        return True\n",
        "    if n < 5:\n",
        "        return 20\n",
        "    else:\n",
        "        return 2\n",
        "    return f(n)\n",
        "\n",
        "total, details = get_cognitive_complexity(f)\n",
        "print(tabulate(details, headers=[\"Complexity\", \"Node\"], tablefmt=\"fancy_grid\"))"
      ],
      "execution_count": 6,
      "outputs": [
        {
          "output_type": "stream",
          "text": [
            "╒══════════════╤═════════════════╕\n",
            "│   Complexity │ Node            │\n",
            "╞══════════════╪═════════════════╡\n",
            "│            1 │ if (n > 10):    │\n",
            "│              │     return True │\n",
            "├──────────────┼─────────────────┤\n",
            "│            2 │ if (n < 5):     │\n",
            "│              │     return 20   │\n",
            "│              │ else:           │\n",
            "│              │     return 2    │\n",
            "├──────────────┼─────────────────┤\n",
            "│            1 │ return f(n)     │\n",
            "├──────────────┼─────────────────┤\n",
            "│            4 │ Total           │\n",
            "╘══════════════╧═════════════════╛\n"
          ],
          "name": "stdout"
        }
      ]
    },
    {
      "cell_type": "markdown",
      "metadata": {
        "id": "_64GReVbJj1z"
      },
      "source": [
        "# References\n",
        "\n",
        "* [Cognitive Complexity, Because Testability != Understandability](https://blog.sonarsource.com/cognitive-complexity-because-testability-understandability)\n",
        "\n",
        "* [Cognitive Complexity: A new way of measuring understandability, white paper by G. Ann Campbell](https://www.sonarsource.com/docs/CognitiveComplexity.pdf)\n",
        "\n",
        "* [Cognitive Complexity: the New Guide to Refactoring for Maintainable Code](https://www.youtube.com/watch?v=5C6AGTlKSjY)\n",
        "\n",
        "* [Cognitive Complexity from CodeClimate docs](https://docs.codeclimate.com/docs/cognitive-complexity)\n",
        "\n",
        "* [Is Your Code Readable By Humans? Cognitive Complexity Tells You](https://www.tomasvotruba.cz/blog/2018/05/21/is-your-code-readable-by-humans-cognitive-complexity-tells-you/)"
      ]
    }
  ]
}