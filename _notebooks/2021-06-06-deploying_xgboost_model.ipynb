{
  "nbformat": 4,
  "nbformat_minor": 0,
  "metadata": {
    "anaconda-cloud": {},
    "kernelspec": {
      "display_name": "Python [default]",
      "language": "python",
      "name": "python3"
    },
    "language_info": {
      "codemirror_mode": {
        "name": "ipython",
        "version": 3
      },
      "file_extension": ".py",
      "mimetype": "text/x-python",
      "name": "python",
      "nbconvert_exporter": "python",
      "pygments_lexer": "ipython3",
      "version": "3.5.2"
    },
    "colab": {
      "name": "2021-06-06-deploying-xgboost-model",
      "provenance": []
    }
  },
  "cells": [
    {
      "cell_type": "markdown",
      "metadata": {
        "id": "8bPGq5kbIu6C"
      },
      "source": [
        "# Deploying a XGBoost model\n",
        "- badges: true\n",
        "- comments: true\n",
        "- categories: [xgboost]"
      ]
    },
    {
      "cell_type": "code",
      "metadata": {
        "id": "BEHDhTrVIj0m"
      },
      "source": [
        "import pandas as pd\n",
        "import numpy as np\n",
        "import xgboost as xgb\n",
        "import re\n",
        "from sklearn.datasets import fetch_openml\n",
        "from sklearn.model_selection import train_test_split\n",
        "from sklearn.metrics import mean_squared_error\n",
        "np.random.seed(42)"
      ],
      "execution_count": 69,
      "outputs": []
    },
    {
      "cell_type": "markdown",
      "metadata": {
        "id": "OBho6LOxIj0p"
      },
      "source": [
        "##  Load data and build a model"
      ]
    },
    {
      "cell_type": "code",
      "metadata": {
        "id": "7blrEbNWKJQ6"
      },
      "source": [
        "X, y = fetch_openml(\"titanic\", version=1, as_frame=True, return_X_y=True)\n",
        "X_train, X_test, y_train, y_test = train_test_split(X, y, stratify=y, test_size=0.2)"
      ],
      "execution_count": 45,
      "outputs": []
    },
    {
      "cell_type": "code",
      "metadata": {
        "id": "mb847SkgMNuf"
      },
      "source": [
        "X_y_train = xgb.DMatrix(data=X_train[[\"pclass\", \"age\", \"fare\", \"sibsp\", \"parch\"]], label=y_train.astype(int))\n",
        "X_test = xgb.DMatrix(data=X_test[[\"pclass\", \"age\", \"fare\", \"sibsp\", \"parch\"]])"
      ],
      "execution_count": 46,
      "outputs": []
    },
    {
      "cell_type": "code",
      "metadata": {
        "id": "2crCxh-XIj0q",
        "colab": {
          "base_uri": "https://localhost:8080/",
          "height": 206
        },
        "outputId": "568dd422-d039-4e28-c6f5-fad2898da9a5"
      },
      "source": [
        "X_train[[\"pclass\", \"age\", \"fare\", \"sibsp\", \"parch\"]].head()"
      ],
      "execution_count": 49,
      "outputs": [
        {
          "output_type": "execute_result",
          "data": {
            "text/html": [
              "<div>\n",
              "<style scoped>\n",
              "    .dataframe tbody tr th:only-of-type {\n",
              "        vertical-align: middle;\n",
              "    }\n",
              "\n",
              "    .dataframe tbody tr th {\n",
              "        vertical-align: top;\n",
              "    }\n",
              "\n",
              "    .dataframe thead th {\n",
              "        text-align: right;\n",
              "    }\n",
              "</style>\n",
              "<table border=\"1\" class=\"dataframe\">\n",
              "  <thead>\n",
              "    <tr style=\"text-align: right;\">\n",
              "      <th></th>\n",
              "      <th>pclass</th>\n",
              "      <th>age</th>\n",
              "      <th>fare</th>\n",
              "      <th>sibsp</th>\n",
              "      <th>parch</th>\n",
              "    </tr>\n",
              "  </thead>\n",
              "  <tbody>\n",
              "    <tr>\n",
              "      <th>662</th>\n",
              "      <td>3.0</td>\n",
              "      <td>40.0</td>\n",
              "      <td>7.2250</td>\n",
              "      <td>0.0</td>\n",
              "      <td>0.0</td>\n",
              "    </tr>\n",
              "    <tr>\n",
              "      <th>164</th>\n",
              "      <td>1.0</td>\n",
              "      <td>35.0</td>\n",
              "      <td>26.5500</td>\n",
              "      <td>0.0</td>\n",
              "      <td>0.0</td>\n",
              "    </tr>\n",
              "    <tr>\n",
              "      <th>871</th>\n",
              "      <td>3.0</td>\n",
              "      <td>NaN</td>\n",
              "      <td>7.7500</td>\n",
              "      <td>0.0</td>\n",
              "      <td>0.0</td>\n",
              "    </tr>\n",
              "    <tr>\n",
              "      <th>1298</th>\n",
              "      <td>3.0</td>\n",
              "      <td>36.0</td>\n",
              "      <td>9.5000</td>\n",
              "      <td>0.0</td>\n",
              "      <td>0.0</td>\n",
              "    </tr>\n",
              "    <tr>\n",
              "      <th>1004</th>\n",
              "      <td>3.0</td>\n",
              "      <td>NaN</td>\n",
              "      <td>7.7875</td>\n",
              "      <td>0.0</td>\n",
              "      <td>0.0</td>\n",
              "    </tr>\n",
              "  </tbody>\n",
              "</table>\n",
              "</div>"
            ],
            "text/plain": [
              "      pclass   age     fare  sibsp  parch\n",
              "662      3.0  40.0   7.2250    0.0    0.0\n",
              "164      1.0  35.0  26.5500    0.0    0.0\n",
              "871      3.0   NaN   7.7500    0.0    0.0\n",
              "1298     3.0  36.0   9.5000    0.0    0.0\n",
              "1004     3.0   NaN   7.7875    0.0    0.0"
            ]
          },
          "metadata": {
            "tags": []
          },
          "execution_count": 49
        }
      ]
    },
    {
      "cell_type": "code",
      "metadata": {
        "collapsed": true,
        "id": "BbIEbORHIj0r"
      },
      "source": [
        "params = {\n",
        "    \"base_score\": np.mean(y_train.astype(int)),\n",
        "    \"eta\":  0.1,\n",
        "    \"max_depth\": 3,\n",
        "    \"gamma\": 3,\n",
        "    \"objective\": \"reg:squarederror\",\n",
        "    \"eval_metric\": \"mae\"\n",
        "}\n",
        "model = xgb.train(\n",
        "    params=params, \n",
        "    dtrain=X_y_train, \n",
        "    num_boost_round=3\n",
        ")"
      ],
      "execution_count": 52,
      "outputs": []
    },
    {
      "cell_type": "markdown",
      "metadata": {
        "id": "-FoM-YLsIj0s"
      },
      "source": [
        "## Visualization of model"
      ]
    },
    {
      "cell_type": "code",
      "metadata": {
        "id": "9D8LnOI7Ij0s",
        "colab": {
          "base_uri": "https://localhost:8080/",
          "height": 428
        },
        "outputId": "e76d7128-05cd-438a-b089-8c7c9ac7b477"
      },
      "source": [
        "xgb.to_graphviz(booster = model, num_trees=0)"
      ],
      "execution_count": 53,
      "outputs": [
        {
          "output_type": "execute_result",
          "data": {
            "text/plain": [
              "<graphviz.dot.Digraph at 0x7f5722e63950>"
            ],
            "image/svg+xml": "<?xml version=\"1.0\" encoding=\"UTF-8\" standalone=\"no\"?>\n<!DOCTYPE svg PUBLIC \"-//W3C//DTD SVG 1.1//EN\"\n \"http://www.w3.org/Graphics/SVG/1.1/DTD/svg11.dtd\">\n<!-- Generated by graphviz version 2.40.1 (20161225.0304)\n -->\n<!-- Title: %3 Pages: 1 -->\n<svg width=\"910pt\" height=\"305pt\"\n viewBox=\"0.00 0.00 909.53 305.00\" xmlns=\"http://www.w3.org/2000/svg\" xmlns:xlink=\"http://www.w3.org/1999/xlink\">\n<g id=\"graph0\" class=\"graph\" transform=\"scale(1 1) rotate(0) translate(4 301)\">\n<title>%3</title>\n<polygon fill=\"#ffffff\" stroke=\"transparent\" points=\"-4,4 -4,-301 905.5346,-301 905.5346,4 -4,4\"/>\n<!-- 0 -->\n<g id=\"node1\" class=\"node\">\n<title>0</title>\n<ellipse fill=\"none\" stroke=\"#000000\" cx=\"354.1424\" cy=\"-279\" rx=\"76.0865\" ry=\"18\"/>\n<text text-anchor=\"middle\" x=\"354.1424\" y=\"-275.3\" font-family=\"Times,serif\" font-size=\"14.00\" fill=\"#000000\">fare&lt;15.1729002</text>\n</g>\n<!-- 1 -->\n<g id=\"node2\" class=\"node\">\n<title>1</title>\n<ellipse fill=\"none\" stroke=\"#000000\" cx=\"277.1424\" cy=\"-192\" rx=\"46.2923\" ry=\"18\"/>\n<text text-anchor=\"middle\" x=\"277.1424\" y=\"-188.3\" font-family=\"Times,serif\" font-size=\"14.00\" fill=\"#000000\">age&lt;16.5</text>\n</g>\n<!-- 0&#45;&gt;1 -->\n<g id=\"edge1\" class=\"edge\">\n<title>0&#45;&gt;1</title>\n<path fill=\"none\" stroke=\"#0000ff\" d=\"M338.188,-260.9735C326.9201,-248.2422 311.6739,-231.0161 299.2372,-216.9642\"/>\n<polygon fill=\"#0000ff\" stroke=\"#0000ff\" points=\"301.5391,-214.2841 292.2905,-209.1154 296.2973,-218.9234 301.5391,-214.2841\"/>\n<text text-anchor=\"middle\" x=\"356.6424\" y=\"-231.8\" font-family=\"Times,serif\" font-size=\"14.00\" fill=\"#000000\">yes, missing</text>\n</g>\n<!-- 2 -->\n<g id=\"node3\" class=\"node\">\n<title>2</title>\n<ellipse fill=\"none\" stroke=\"#000000\" cx=\"432.1424\" cy=\"-192\" rx=\"50.0912\" ry=\"18\"/>\n<text text-anchor=\"middle\" x=\"432.1424\" y=\"-188.3\" font-family=\"Times,serif\" font-size=\"14.00\" fill=\"#000000\">pclass&lt;2.5</text>\n</g>\n<!-- 0&#45;&gt;2 -->\n<g id=\"edge2\" class=\"edge\">\n<title>0&#45;&gt;2</title>\n<path fill=\"none\" stroke=\"#ff0000\" d=\"M375.2282,-261.4273C381.5574,-255.7882 388.352,-249.3522 394.1424,-243 401.209,-235.2479 408.2639,-226.226 414.3426,-217.9444\"/>\n<polygon fill=\"#ff0000\" stroke=\"#ff0000\" points=\"417.2964,-219.8313 420.2834,-209.6663 411.6094,-215.75 417.2964,-219.8313\"/>\n<text text-anchor=\"middle\" x=\"415.1424\" y=\"-231.8\" font-family=\"Times,serif\" font-size=\"14.00\" fill=\"#000000\">no</text>\n</g>\n<!-- 3 -->\n<g id=\"node4\" class=\"node\">\n<title>3</title>\n<ellipse fill=\"none\" stroke=\"#000000\" cx=\"85.1424\" cy=\"-105\" rx=\"85.2851\" ry=\"18\"/>\n<text text-anchor=\"middle\" x=\"85.1424\" y=\"-101.3\" font-family=\"Times,serif\" font-size=\"14.00\" fill=\"#000000\">leaf=0.0223644935</text>\n</g>\n<!-- 1&#45;&gt;3 -->\n<g id=\"edge3\" class=\"edge\">\n<title>1&#45;&gt;3</title>\n<path fill=\"none\" stroke=\"#0000ff\" d=\"M246.7195,-178.2146C215.4643,-164.0521 166.4447,-141.8401 130.5892,-125.5931\"/>\n<polygon fill=\"#0000ff\" stroke=\"#0000ff\" points=\"131.8674,-122.3298 121.3143,-121.3904 128.9783,-128.7057 131.8674,-122.3298\"/>\n<text text-anchor=\"middle\" x=\"202.6424\" y=\"-144.8\" font-family=\"Times,serif\" font-size=\"14.00\" fill=\"#000000\">yes</text>\n</g>\n<!-- 4 -->\n<g id=\"node5\" class=\"node\">\n<title>4</title>\n<ellipse fill=\"none\" stroke=\"#000000\" cx=\"277.1424\" cy=\"-105\" rx=\"88.2844\" ry=\"18\"/>\n<text text-anchor=\"middle\" x=\"277.1424\" y=\"-101.3\" font-family=\"Times,serif\" font-size=\"14.00\" fill=\"#000000\">leaf=&#45;0.0156309232</text>\n</g>\n<!-- 1&#45;&gt;4 -->\n<g id=\"edge4\" class=\"edge\">\n<title>1&#45;&gt;4</title>\n<path fill=\"none\" stroke=\"#ff0000\" d=\"M277.1424,-173.9735C277.1424,-162.1918 277.1424,-146.5607 277.1424,-133.1581\"/>\n<polygon fill=\"#ff0000\" stroke=\"#ff0000\" points=\"280.6425,-133.0033 277.1424,-123.0034 273.6425,-133.0034 280.6425,-133.0033\"/>\n<text text-anchor=\"middle\" x=\"310.6424\" y=\"-144.8\" font-family=\"Times,serif\" font-size=\"14.00\" fill=\"#000000\">no, missing</text>\n</g>\n<!-- 5 -->\n<g id=\"node6\" class=\"node\">\n<title>5</title>\n<ellipse fill=\"none\" stroke=\"#000000\" cx=\"432.1424\" cy=\"-105\" rx=\"48.9926\" ry=\"18\"/>\n<text text-anchor=\"middle\" x=\"432.1424\" y=\"-101.3\" font-family=\"Times,serif\" font-size=\"14.00\" fill=\"#000000\">parch&lt;0.5</text>\n</g>\n<!-- 2&#45;&gt;5 -->\n<g id=\"edge5\" class=\"edge\">\n<title>2&#45;&gt;5</title>\n<path fill=\"none\" stroke=\"#0000ff\" d=\"M432.1424,-173.9735C432.1424,-162.1918 432.1424,-146.5607 432.1424,-133.1581\"/>\n<polygon fill=\"#0000ff\" stroke=\"#0000ff\" points=\"435.6425,-133.0033 432.1424,-123.0034 428.6425,-133.0034 435.6425,-133.0033\"/>\n<text text-anchor=\"middle\" x=\"467.6424\" y=\"-144.8\" font-family=\"Times,serif\" font-size=\"14.00\" fill=\"#000000\">yes, missing</text>\n</g>\n<!-- 6 -->\n<g id=\"node7\" class=\"node\">\n<title>6</title>\n<ellipse fill=\"none\" stroke=\"#000000\" cx=\"616.1424\" cy=\"-105\" rx=\"76.0865\" ry=\"18\"/>\n<text text-anchor=\"middle\" x=\"616.1424\" y=\"-101.3\" font-family=\"Times,serif\" font-size=\"14.00\" fill=\"#000000\">fare&lt;23.3500004</text>\n</g>\n<!-- 2&#45;&gt;6 -->\n<g id=\"edge6\" class=\"edge\">\n<title>2&#45;&gt;6</title>\n<path fill=\"none\" stroke=\"#ff0000\" d=\"M462.5263,-177.6337C492.5691,-163.4287 538.8357,-141.5527 572.7452,-125.5194\"/>\n<polygon fill=\"#ff0000\" stroke=\"#ff0000\" points=\"574.4137,-128.602 581.958,-121.1633 571.4215,-122.2738 574.4137,-128.602\"/>\n<text text-anchor=\"middle\" x=\"544.1424\" y=\"-144.8\" font-family=\"Times,serif\" font-size=\"14.00\" fill=\"#000000\">no</text>\n</g>\n<!-- 11 -->\n<g id=\"node8\" class=\"node\">\n<title>11</title>\n<ellipse fill=\"none\" stroke=\"#000000\" cx=\"253.1424\" cy=\"-18\" rx=\"85.2851\" ry=\"18\"/>\n<text text-anchor=\"middle\" x=\"253.1424\" y=\"-14.3\" font-family=\"Times,serif\" font-size=\"14.00\" fill=\"#000000\">leaf=0.0153174726</text>\n</g>\n<!-- 5&#45;&gt;11 -->\n<g id=\"edge7\" class=\"edge\">\n<title>5&#45;&gt;11</title>\n<path fill=\"none\" stroke=\"#0000ff\" d=\"M402.1882,-90.6928C388.4491,-84.1124 371.9561,-76.1873 357.1424,-69 337.0215,-59.2377 314.7556,-48.3326 296.0055,-39.1199\"/>\n<polygon fill=\"#0000ff\" stroke=\"#0000ff\" points=\"297.3488,-35.8802 286.8305,-34.609 294.2603,-42.162 297.3488,-35.8802\"/>\n<text text-anchor=\"middle\" x=\"392.6424\" y=\"-57.8\" font-family=\"Times,serif\" font-size=\"14.00\" fill=\"#000000\">yes, missing</text>\n</g>\n<!-- 12 -->\n<g id=\"node9\" class=\"node\">\n<title>12</title>\n<ellipse fill=\"none\" stroke=\"#000000\" cx=\"432.1424\" cy=\"-18\" rx=\"75.2868\" ry=\"18\"/>\n<text text-anchor=\"middle\" x=\"432.1424\" y=\"-14.3\" font-family=\"Times,serif\" font-size=\"14.00\" fill=\"#000000\">leaf=0.03650124</text>\n</g>\n<!-- 5&#45;&gt;12 -->\n<g id=\"edge8\" class=\"edge\">\n<title>5&#45;&gt;12</title>\n<path fill=\"none\" stroke=\"#ff0000\" d=\"M432.1424,-86.9735C432.1424,-75.1918 432.1424,-59.5607 432.1424,-46.1581\"/>\n<polygon fill=\"#ff0000\" stroke=\"#ff0000\" points=\"435.6425,-46.0033 432.1424,-36.0034 428.6425,-46.0034 435.6425,-46.0033\"/>\n<text text-anchor=\"middle\" x=\"440.1424\" y=\"-57.8\" font-family=\"Times,serif\" font-size=\"14.00\" fill=\"#000000\">no</text>\n</g>\n<!-- 13 -->\n<g id=\"node10\" class=\"node\">\n<title>13</title>\n<ellipse fill=\"none\" stroke=\"#000000\" cx=\"616.1424\" cy=\"-18\" rx=\"90.1842\" ry=\"18\"/>\n<text text-anchor=\"middle\" x=\"616.1424\" y=\"-14.3\" font-family=\"Times,serif\" font-size=\"14.00\" fill=\"#000000\">leaf=0.00960917864</text>\n</g>\n<!-- 6&#45;&gt;13 -->\n<g id=\"edge9\" class=\"edge\">\n<title>6&#45;&gt;13</title>\n<path fill=\"none\" stroke=\"#0000ff\" d=\"M616.1424,-86.9735C616.1424,-75.1918 616.1424,-59.5607 616.1424,-46.1581\"/>\n<polygon fill=\"#0000ff\" stroke=\"#0000ff\" points=\"619.6425,-46.0033 616.1424,-36.0034 612.6425,-46.0034 619.6425,-46.0033\"/>\n<text text-anchor=\"middle\" x=\"625.6424\" y=\"-57.8\" font-family=\"Times,serif\" font-size=\"14.00\" fill=\"#000000\">yes</text>\n</g>\n<!-- 14 -->\n<g id=\"node11\" class=\"node\">\n<title>14</title>\n<ellipse fill=\"none\" stroke=\"#000000\" cx=\"813.1424\" cy=\"-18\" rx=\"88.2844\" ry=\"18\"/>\n<text text-anchor=\"middle\" x=\"813.1424\" y=\"-14.3\" font-family=\"Times,serif\" font-size=\"14.00\" fill=\"#000000\">leaf=&#45;0.0235449504</text>\n</g>\n<!-- 6&#45;&gt;14 -->\n<g id=\"edge10\" class=\"edge\">\n<title>6&#45;&gt;14</title>\n<path fill=\"none\" stroke=\"#ff0000\" d=\"M652.2753,-89.0429C684.3596,-74.8736 731.4414,-54.0812 766.3878,-38.648\"/>\n<polygon fill=\"#ff0000\" stroke=\"#ff0000\" points=\"768.1664,-41.6887 775.9001,-34.4471 765.3385,-35.2853 768.1664,-41.6887\"/>\n<text text-anchor=\"middle\" x=\"760.6424\" y=\"-57.8\" font-family=\"Times,serif\" font-size=\"14.00\" fill=\"#000000\">no, missing</text>\n</g>\n</g>\n</svg>\n"
          },
          "metadata": {
            "tags": []
          },
          "execution_count": 53
        }
      ]
    },
    {
      "cell_type": "code",
      "metadata": {
        "id": "mmD-4S6TIj0t",
        "colab": {
          "base_uri": "https://localhost:8080/",
          "height": 428
        },
        "outputId": "d979a664-2a9b-46fd-b67e-b4e433ddf41b"
      },
      "source": [
        "xgb.to_graphviz(booster = model, num_trees=1)"
      ],
      "execution_count": 54,
      "outputs": [
        {
          "output_type": "execute_result",
          "data": {
            "text/plain": [
              "<graphviz.dot.Digraph at 0x7f5722c70a50>"
            ],
            "image/svg+xml": "<?xml version=\"1.0\" encoding=\"UTF-8\" standalone=\"no\"?>\n<!DOCTYPE svg PUBLIC \"-//W3C//DTD SVG 1.1//EN\"\n \"http://www.w3.org/Graphics/SVG/1.1/DTD/svg11.dtd\">\n<!-- Generated by graphviz version 2.40.1 (20161225.0304)\n -->\n<!-- Title: %3 Pages: 1 -->\n<svg width=\"843pt\" height=\"305pt\"\n viewBox=\"0.00 0.00 842.53 305.00\" xmlns=\"http://www.w3.org/2000/svg\" xmlns:xlink=\"http://www.w3.org/1999/xlink\">\n<g id=\"graph0\" class=\"graph\" transform=\"scale(1 1) rotate(0) translate(4 301)\">\n<title>%3</title>\n<polygon fill=\"#ffffff\" stroke=\"transparent\" points=\"-4,4 -4,-301 838.5346,-301 838.5346,4 -4,4\"/>\n<!-- 0 -->\n<g id=\"node1\" class=\"node\">\n<title>0</title>\n<ellipse fill=\"none\" stroke=\"#000000\" cx=\"373.1424\" cy=\"-279\" rx=\"76.0865\" ry=\"18\"/>\n<text text-anchor=\"middle\" x=\"373.1424\" y=\"-275.3\" font-family=\"Times,serif\" font-size=\"14.00\" fill=\"#000000\">fare&lt;15.1729002</text>\n</g>\n<!-- 1 -->\n<g id=\"node2\" class=\"node\">\n<title>1</title>\n<ellipse fill=\"none\" stroke=\"#000000\" cx=\"277.1424\" cy=\"-192\" rx=\"46.2923\" ry=\"18\"/>\n<text text-anchor=\"middle\" x=\"277.1424\" y=\"-188.3\" font-family=\"Times,serif\" font-size=\"14.00\" fill=\"#000000\">age&lt;16.5</text>\n</g>\n<!-- 0&#45;&gt;1 -->\n<g id=\"edge1\" class=\"edge\">\n<title>0&#45;&gt;1</title>\n<path fill=\"none\" stroke=\"#0000ff\" d=\"M353.7154,-261.3943C339.1195,-248.1667 318.9817,-229.9168 303.0207,-215.4522\"/>\n<polygon fill=\"#0000ff\" stroke=\"#0000ff\" points=\"305.3237,-212.8158 295.5634,-208.694 300.623,-218.0027 305.3237,-212.8158\"/>\n<text text-anchor=\"middle\" x=\"366.6424\" y=\"-231.8\" font-family=\"Times,serif\" font-size=\"14.00\" fill=\"#000000\">yes, missing</text>\n</g>\n<!-- 2 -->\n<g id=\"node3\" class=\"node\">\n<title>2</title>\n<ellipse fill=\"none\" stroke=\"#000000\" cx=\"469.1424\" cy=\"-192\" rx=\"50.0912\" ry=\"18\"/>\n<text text-anchor=\"middle\" x=\"469.1424\" y=\"-188.3\" font-family=\"Times,serif\" font-size=\"14.00\" fill=\"#000000\">pclass&lt;2.5</text>\n</g>\n<!-- 0&#45;&gt;2 -->\n<g id=\"edge2\" class=\"edge\">\n<title>0&#45;&gt;2</title>\n<path fill=\"none\" stroke=\"#ff0000\" d=\"M392.5695,-261.3943C407.0712,-248.2521 427.0436,-230.1521 442.9547,-215.7326\"/>\n<polygon fill=\"#ff0000\" stroke=\"#ff0000\" points=\"445.3381,-218.2962 450.3976,-208.9875 440.6374,-213.1092 445.3381,-218.2962\"/>\n<text text-anchor=\"middle\" x=\"435.1424\" y=\"-231.8\" font-family=\"Times,serif\" font-size=\"14.00\" fill=\"#000000\">no</text>\n</g>\n<!-- 3 -->\n<g id=\"node4\" class=\"node\">\n<title>3</title>\n<ellipse fill=\"none\" stroke=\"#000000\" cx=\"85.1424\" cy=\"-105\" rx=\"85.2851\" ry=\"18\"/>\n<text text-anchor=\"middle\" x=\"85.1424\" y=\"-101.3\" font-family=\"Times,serif\" font-size=\"14.00\" fill=\"#000000\">leaf=0.0201979335</text>\n</g>\n<!-- 1&#45;&gt;3 -->\n<g id=\"edge3\" class=\"edge\">\n<title>1&#45;&gt;3</title>\n<path fill=\"none\" stroke=\"#0000ff\" d=\"M246.7195,-178.2146C215.4643,-164.0521 166.4447,-141.8401 130.5892,-125.5931\"/>\n<polygon fill=\"#0000ff\" stroke=\"#0000ff\" points=\"131.8674,-122.3298 121.3143,-121.3904 128.9783,-128.7057 131.8674,-122.3298\"/>\n<text text-anchor=\"middle\" x=\"202.6424\" y=\"-144.8\" font-family=\"Times,serif\" font-size=\"14.00\" fill=\"#000000\">yes</text>\n</g>\n<!-- 4 -->\n<g id=\"node5\" class=\"node\">\n<title>4</title>\n<ellipse fill=\"none\" stroke=\"#000000\" cx=\"277.1424\" cy=\"-105\" rx=\"88.2844\" ry=\"18\"/>\n<text text-anchor=\"middle\" x=\"277.1424\" y=\"-101.3\" font-family=\"Times,serif\" font-size=\"14.00\" fill=\"#000000\">leaf=&#45;0.0140708359</text>\n</g>\n<!-- 1&#45;&gt;4 -->\n<g id=\"edge4\" class=\"edge\">\n<title>1&#45;&gt;4</title>\n<path fill=\"none\" stroke=\"#ff0000\" d=\"M277.1424,-173.9735C277.1424,-162.1918 277.1424,-146.5607 277.1424,-133.1581\"/>\n<polygon fill=\"#ff0000\" stroke=\"#ff0000\" points=\"280.6425,-133.0033 277.1424,-123.0034 273.6425,-133.0034 280.6425,-133.0033\"/>\n<text text-anchor=\"middle\" x=\"310.6424\" y=\"-144.8\" font-family=\"Times,serif\" font-size=\"14.00\" fill=\"#000000\">no, missing</text>\n</g>\n<!-- 5 -->\n<g id=\"node6\" class=\"node\">\n<title>5</title>\n<ellipse fill=\"none\" stroke=\"#000000\" cx=\"469.1424\" cy=\"-105\" rx=\"85.2851\" ry=\"18\"/>\n<text text-anchor=\"middle\" x=\"469.1424\" y=\"-101.3\" font-family=\"Times,serif\" font-size=\"14.00\" fill=\"#000000\">leaf=0.0204214789</text>\n</g>\n<!-- 2&#45;&gt;5 -->\n<g id=\"edge5\" class=\"edge\">\n<title>2&#45;&gt;5</title>\n<path fill=\"none\" stroke=\"#0000ff\" d=\"M469.1424,-173.9735C469.1424,-162.1918 469.1424,-146.5607 469.1424,-133.1581\"/>\n<polygon fill=\"#0000ff\" stroke=\"#0000ff\" points=\"472.6425,-133.0033 469.1424,-123.0034 465.6425,-133.0034 472.6425,-133.0033\"/>\n<text text-anchor=\"middle\" x=\"504.6424\" y=\"-144.8\" font-family=\"Times,serif\" font-size=\"14.00\" fill=\"#000000\">yes, missing</text>\n</g>\n<!-- 6 -->\n<g id=\"node7\" class=\"node\">\n<title>6</title>\n<ellipse fill=\"none\" stroke=\"#000000\" cx=\"648.1424\" cy=\"-105\" rx=\"76.0865\" ry=\"18\"/>\n<text text-anchor=\"middle\" x=\"648.1424\" y=\"-101.3\" font-family=\"Times,serif\" font-size=\"14.00\" fill=\"#000000\">fare&lt;23.3500004</text>\n</g>\n<!-- 2&#45;&gt;6 -->\n<g id=\"edge6\" class=\"edge\">\n<title>2&#45;&gt;6</title>\n<path fill=\"none\" stroke=\"#ff0000\" d=\"M499.4589,-177.5193C513.125,-170.9734 529.4587,-163.1243 544.1424,-156 564.4182,-146.1626 586.872,-135.1647 605.7114,-125.9076\"/>\n<polygon fill=\"#ff0000\" stroke=\"#ff0000\" points=\"607.4931,-128.9318 614.9227,-121.3786 604.4045,-122.65 607.4931,-128.9318\"/>\n<text text-anchor=\"middle\" x=\"581.1424\" y=\"-144.8\" font-family=\"Times,serif\" font-size=\"14.00\" fill=\"#000000\">no</text>\n</g>\n<!-- 13 -->\n<g id=\"node8\" class=\"node\">\n<title>13</title>\n<ellipse fill=\"none\" stroke=\"#000000\" cx=\"549.1424\" cy=\"-18\" rx=\"90.1842\" ry=\"18\"/>\n<text text-anchor=\"middle\" x=\"549.1424\" y=\"-14.3\" font-family=\"Times,serif\" font-size=\"14.00\" fill=\"#000000\">leaf=0.00866124686</text>\n</g>\n<!-- 6&#45;&gt;13 -->\n<g id=\"edge7\" class=\"edge\">\n<title>6&#45;&gt;13</title>\n<path fill=\"none\" stroke=\"#0000ff\" d=\"M628.1083,-87.3943C613.3476,-74.4228 593.0909,-56.6213 576.7899,-42.2962\"/>\n<polygon fill=\"#0000ff\" stroke=\"#0000ff\" points=\"578.9689,-39.5517 569.1468,-35.5796 574.348,-44.8098 578.9689,-39.5517\"/>\n<text text-anchor=\"middle\" x=\"614.6424\" y=\"-57.8\" font-family=\"Times,serif\" font-size=\"14.00\" fill=\"#000000\">yes</text>\n</g>\n<!-- 14 -->\n<g id=\"node9\" class=\"node\">\n<title>14</title>\n<ellipse fill=\"none\" stroke=\"#000000\" cx=\"746.1424\" cy=\"-18\" rx=\"88.2844\" ry=\"18\"/>\n<text text-anchor=\"middle\" x=\"746.1424\" y=\"-14.3\" font-family=\"Times,serif\" font-size=\"14.00\" fill=\"#000000\">leaf=&#45;0.0212272462</text>\n</g>\n<!-- 6&#45;&gt;14 -->\n<g id=\"edge8\" class=\"edge\">\n<title>6&#45;&gt;14</title>\n<path fill=\"none\" stroke=\"#ff0000\" d=\"M667.9742,-87.3943C682.5858,-74.4228 702.6379,-56.6213 718.7743,-42.2962\"/>\n<polygon fill=\"#ff0000\" stroke=\"#ff0000\" points=\"721.1855,-44.8359 726.3402,-35.5796 716.5382,-39.6011 721.1855,-44.8359\"/>\n<text text-anchor=\"middle\" x=\"736.6424\" y=\"-57.8\" font-family=\"Times,serif\" font-size=\"14.00\" fill=\"#000000\">no, missing</text>\n</g>\n</g>\n</svg>\n"
          },
          "metadata": {
            "tags": []
          },
          "execution_count": 54
        }
      ]
    },
    {
      "cell_type": "code",
      "metadata": {
        "id": "8-yhNOHUIj0t",
        "colab": {
          "base_uri": "https://localhost:8080/",
          "height": 312
        },
        "outputId": "2b33756e-dfcd-4a40-db97-fb82cfbce1cb"
      },
      "source": [
        "xgb.to_graphviz(booster = model, num_trees=2)"
      ],
      "execution_count": 55,
      "outputs": [
        {
          "output_type": "execute_result",
          "data": {
            "text/plain": [
              "<graphviz.dot.Digraph at 0x7f5722d11cd0>"
            ],
            "image/svg+xml": "<?xml version=\"1.0\" encoding=\"UTF-8\" standalone=\"no\"?>\n<!DOCTYPE svg PUBLIC \"-//W3C//DTD SVG 1.1//EN\"\n \"http://www.w3.org/Graphics/SVG/1.1/DTD/svg11.dtd\">\n<!-- Generated by graphviz version 2.40.1 (20161225.0304)\n -->\n<!-- Title: %3 Pages: 1 -->\n<svg width=\"433pt\" height=\"218pt\"\n viewBox=\"0.00 0.00 433.13 218.00\" xmlns=\"http://www.w3.org/2000/svg\" xmlns:xlink=\"http://www.w3.org/1999/xlink\">\n<g id=\"graph0\" class=\"graph\" transform=\"scale(1 1) rotate(0) translate(4 214)\">\n<title>%3</title>\n<polygon fill=\"#ffffff\" stroke=\"transparent\" points=\"-4,4 -4,-214 429.1344,-214 429.1344,4 -4,4\"/>\n<!-- 0 -->\n<g id=\"node1\" class=\"node\">\n<title>0</title>\n<ellipse fill=\"none\" stroke=\"#000000\" cx=\"144.1926\" cy=\"-192\" rx=\"76.0865\" ry=\"18\"/>\n<text text-anchor=\"middle\" x=\"144.1926\" y=\"-188.3\" font-family=\"Times,serif\" font-size=\"14.00\" fill=\"#000000\">fare&lt;15.1729002</text>\n</g>\n<!-- 1 -->\n<g id=\"node2\" class=\"node\">\n<title>1</title>\n<ellipse fill=\"none\" stroke=\"#000000\" cx=\"83.1926\" cy=\"-105\" rx=\"83.3857\" ry=\"18\"/>\n<text text-anchor=\"middle\" x=\"83.1926\" y=\"-101.3\" font-family=\"Times,serif\" font-size=\"14.00\" fill=\"#000000\">leaf=&#45;0.010894442</text>\n</g>\n<!-- 0&#45;&gt;1 -->\n<g id=\"edge1\" class=\"edge\">\n<title>0&#45;&gt;1</title>\n<path fill=\"none\" stroke=\"#0000ff\" d=\"M127.1383,-174.3053C122.0674,-168.6613 116.6742,-162.2531 112.1926,-156 106.8192,-148.5024 101.6184,-139.9271 97.1404,-131.9748\"/>\n<polygon fill=\"#0000ff\" stroke=\"#0000ff\" points=\"100.117,-130.1229 92.2488,-123.0277 93.975,-133.481 100.117,-130.1229\"/>\n<text text-anchor=\"middle\" x=\"147.6926\" y=\"-144.8\" font-family=\"Times,serif\" font-size=\"14.00\" fill=\"#000000\">yes, missing</text>\n</g>\n<!-- 2 -->\n<g id=\"node3\" class=\"node\">\n<title>2</title>\n<ellipse fill=\"none\" stroke=\"#000000\" cx=\"234.1926\" cy=\"-105\" rx=\"50.0912\" ry=\"18\"/>\n<text text-anchor=\"middle\" x=\"234.1926\" y=\"-101.3\" font-family=\"Times,serif\" font-size=\"14.00\" fill=\"#000000\">pclass&lt;2.5</text>\n</g>\n<!-- 0&#45;&gt;2 -->\n<g id=\"edge2\" class=\"edge\">\n<title>0&#45;&gt;2</title>\n<path fill=\"none\" stroke=\"#ff0000\" d=\"M163.3776,-174.5727C169.7348,-168.7234 176.8138,-162.1287 183.1926,-156 192.1317,-147.4113 201.7841,-137.8383 210.2612,-129.3268\"/>\n<polygon fill=\"#ff0000\" stroke=\"#ff0000\" points=\"212.8019,-131.7354 217.3608,-122.1716 207.8328,-126.805 212.8019,-131.7354\"/>\n<text text-anchor=\"middle\" x=\"205.1926\" y=\"-144.8\" font-family=\"Times,serif\" font-size=\"14.00\" fill=\"#000000\">no</text>\n</g>\n<!-- 5 -->\n<g id=\"node4\" class=\"node\">\n<title>5</title>\n<ellipse fill=\"none\" stroke=\"#000000\" cx=\"136.1926\" cy=\"-18\" rx=\"85.2851\" ry=\"18\"/>\n<text text-anchor=\"middle\" x=\"136.1926\" y=\"-14.3\" font-family=\"Times,serif\" font-size=\"14.00\" fill=\"#000000\">leaf=0.0183849707</text>\n</g>\n<!-- 2&#45;&gt;5 -->\n<g id=\"edge3\" class=\"edge\">\n<title>2&#45;&gt;5</title>\n<path fill=\"none\" stroke=\"#0000ff\" d=\"M215.2972,-88.2255C200.6708,-75.2408 180.2015,-57.0691 163.7496,-42.4638\"/>\n<polygon fill=\"#0000ff\" stroke=\"#0000ff\" points=\"165.8411,-39.6404 156.0391,-35.6188 161.1938,-44.8752 165.8411,-39.6404\"/>\n<text text-anchor=\"middle\" x=\"225.6926\" y=\"-57.8\" font-family=\"Times,serif\" font-size=\"14.00\" fill=\"#000000\">yes, missing</text>\n</g>\n<!-- 6 -->\n<g id=\"node5\" class=\"node\">\n<title>6</title>\n<ellipse fill=\"none\" stroke=\"#000000\" cx=\"332.1926\" cy=\"-18\" rx=\"92.8835\" ry=\"18\"/>\n<text text-anchor=\"middle\" x=\"332.1926\" y=\"-14.3\" font-family=\"Times,serif\" font-size=\"14.00\" fill=\"#000000\">leaf=&#45;0.00472340686</text>\n</g>\n<!-- 2&#45;&gt;6 -->\n<g id=\"edge4\" class=\"edge\">\n<title>2&#45;&gt;6</title>\n<path fill=\"none\" stroke=\"#ff0000\" d=\"M253.088,-88.2255C267.7144,-75.2408 288.1838,-57.0691 304.6357,-42.4638\"/>\n<polygon fill=\"#ff0000\" stroke=\"#ff0000\" points=\"307.1914,-44.8752 312.3461,-35.6188 302.5442,-39.6404 307.1914,-44.8752\"/>\n<text text-anchor=\"middle\" x=\"296.1926\" y=\"-57.8\" font-family=\"Times,serif\" font-size=\"14.00\" fill=\"#000000\">no</text>\n</g>\n</g>\n</svg>\n"
          },
          "metadata": {
            "tags": []
          },
          "execution_count": 55
        }
      ]
    },
    {
      "cell_type": "code",
      "metadata": {
        "id": "xCewOKopIj0t",
        "colab": {
          "base_uri": "https://localhost:8080/"
        },
        "outputId": "7edacc08-2287-4c4d-de3b-d9424adb2a7a"
      },
      "source": [
        "print(\"\\n\".join(model.get_dump()))"
      ],
      "execution_count": 59,
      "outputs": [
        {
          "output_type": "stream",
          "text": [
            "0:[fare<15.1729002] yes=1,no=2,missing=1\n",
            "\t1:[age<16.5] yes=3,no=4,missing=4\n",
            "\t\t3:leaf=0.0223644935\n",
            "\t\t4:leaf=-0.0156309232\n",
            "\t2:[pclass<2.5] yes=5,no=6,missing=5\n",
            "\t\t5:[parch<0.5] yes=11,no=12,missing=11\n",
            "\t\t\t11:leaf=0.0153174726\n",
            "\t\t\t12:leaf=0.03650124\n",
            "\t\t6:[fare<23.3500004] yes=13,no=14,missing=14\n",
            "\t\t\t13:leaf=0.00960917864\n",
            "\t\t\t14:leaf=-0.0235449504\n",
            "\n",
            "0:[fare<15.1729002] yes=1,no=2,missing=1\n",
            "\t1:[age<16.5] yes=3,no=4,missing=4\n",
            "\t\t3:leaf=0.0201979335\n",
            "\t\t4:leaf=-0.0140708359\n",
            "\t2:[pclass<2.5] yes=5,no=6,missing=5\n",
            "\t\t5:leaf=0.0204214789\n",
            "\t\t6:[fare<23.3500004] yes=13,no=14,missing=14\n",
            "\t\t\t13:leaf=0.00866124686\n",
            "\t\t\t14:leaf=-0.0212272462\n",
            "\n",
            "0:[fare<15.1729002] yes=1,no=2,missing=1\n",
            "\t1:leaf=-0.010894442\n",
            "\t2:[pclass<2.5] yes=5,no=6,missing=5\n",
            "\t\t5:leaf=0.0183849707\n",
            "\t\t6:leaf=-0.00472340686\n",
            "\n"
          ],
          "name": "stdout"
        }
      ]
    },
    {
      "cell_type": "markdown",
      "metadata": {
        "id": "G9gFAbjmIj0u"
      },
      "source": [
        "## Convert dump string to a .py file "
      ]
    },
    {
      "cell_type": "code",
      "metadata": {
        "id": "gJ7e0884Ij0u"
      },
      "source": [
        "def string_parser(s):\n",
        "    if len(re.findall(r\":leaf=\", s)) == 0:\n",
        "        out  = re.findall(r\"[\\w.-]+\", s)\n",
        "        tabs = re.findall(r\"[\\t]+\", s)\n",
        "        if (out[4] == out[8]):\n",
        "            missing_value_handling = (\" or np.isnan(x['\" + out[1] + \"']) \")\n",
        "        else:\n",
        "            missing_value_handling = \"\"\n",
        "            \n",
        "        if len(tabs) > 0:\n",
        "            return (re.findall(r\"[\\t]+\", s)[0].replace('\\t', '    ') + \n",
        "                    '        if state == ' + out[0] + ':\\n' +\n",
        "                    re.findall(r\"[\\t]+\", s)[0].replace('\\t', '    ') +\n",
        "                    '            state = (' + out[4] +  \n",
        "                    ' if ' +  \"x['\" + out[1] +\"']<\" + out[2] + missing_value_handling + \n",
        "                    ' else ' + out[6] + ')\\n' )\n",
        "        \n",
        "        else:\n",
        "            return ('        if state == ' + out[0] + ':\\n' +\n",
        "                    '            state = (' + out[4] +  \n",
        "                    ' if ' +  \"x['\" + out[1] +\"']<\" + out[2] + missing_value_handling +\n",
        "                    ' else ' + out[6] + ')\\n' )\n",
        "    else:\n",
        "        out = re.findall(r\"[\\d.-]+\", s)\n",
        "        return (re.findall(r\"[\\t]+\", s)[0].replace('\\t', '    ') + \n",
        "                '        if state == ' + out[0] + ':\\n    ' +\n",
        "                re.findall(r\"[\\t]+\", s)[0].replace('\\t', '    ') + \n",
        "                '        return ' + out[1] + '\\n')\n",
        "        \n",
        "def tree_parser(tree, i):\n",
        "    if i == 0:\n",
        "        return ('    if num_booster == 0:\\n        state = 0\\n'\n",
        "             + \"\".join([string_parser(tree.split('\\n')[i]) for i in range(len(tree.split('\\n'))-1)]))\n",
        "    else:\n",
        "        return ('    elif num_booster == '+str(i)+':\\n        state = 0\\n'\n",
        "             + \"\".join([string_parser(tree.split('\\n')[i]) for i in range(len(tree.split('\\n'))-1)])) \n",
        "    \n",
        "def model_to_py(base_score, model, out_file):\n",
        "    trees = model.get_dump()\n",
        "    result = [\"import numpy as np\\n\\n\" \n",
        "             +\"def xgb_tree(x, num_booster):\\n\"]\n",
        "    \n",
        "    for i in range(len(trees)):\n",
        "        result.append(tree_parser(trees[i], i))\n",
        "    \n",
        "    with open(out_file, 'w') as the_file:\n",
        "        the_file.write(\"\".join(result) + \"\\ndef xgb_predict(x):\\n    predict = \" + str(base_score) + \"\\n\"\n",
        "                 + \"# initialize prediction with base score\\n\" \n",
        "                 + \"    for i in range(\" \n",
        "                 + str(len(trees))  \n",
        "                 + \"):\\n        predict = predict + xgb_tree(x, i)\"\n",
        "                 + \"\\n    return predict\")\n",
        "\n",
        "model_to_py(params['base_score'], model, 'xgb_model.py')"
      ],
      "execution_count": 63,
      "outputs": []
    },
    {
      "cell_type": "markdown",
      "metadata": {
        "id": "H6fgqjeQIj0v"
      },
      "source": [
        "## Prediction using dump file"
      ]
    },
    {
      "cell_type": "code",
      "metadata": {
        "id": "wXs4UP6fIj0w",
        "colab": {
          "base_uri": "https://localhost:8080/"
        },
        "outputId": "61fdc9ae-eeb1-4116-de45-58138b51a51f"
      },
      "source": [
        "import xgb_model\n",
        "\n",
        "passenger_data_1 = {'pclass':3, 'age':np.nan, 'sibsp':0, 'parch':0, 'fare':7.8958}\n",
        "passenger_data_2 = {'pclass':1, 'age':46, 'sibsp':0, 'parch':0, 'fare':26}\n",
        "\n",
        "print(xgb_model.xgb_predict(passenger_data_1))\n",
        "print(xgb_model.xgb_predict(passenger_data_2))"
      ],
      "execution_count": 74,
      "outputs": [
        {
          "output_type": "stream",
          "text": [
            "0.34144773395253103\n",
            "0.43616785725253104\n"
          ],
          "name": "stdout"
        }
      ]
    }
  ]
}
