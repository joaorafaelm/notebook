{
  "nbformat": 4,
  "nbformat_minor": 0,
  "metadata": {
    "kernelspec": {
      "display_name": "Python 3",
      "language": "python",
      "name": "python3"
    },
    "language_info": {
      "codemirror_mode": {
        "name": "ipython",
        "version": 3
      },
      "file_extension": ".py",
      "mimetype": "text/x-python",
      "name": "python",
      "nbconvert_exporter": "python",
      "pygments_lexer": "ipython3",
      "version": "3.7.6"
    },
    "pycharm": {
      "stem_cell": {
        "cell_type": "raw",
        "source": [],
        "metadata": {
          "collapsed": false
        }
      }
    },
    "colab": {
      "name": "multilang topic model",
      "provenance": [],
      "collapsed_sections": []
    }
  },
  "cells": [
    {
      "cell_type": "markdown",
      "metadata": {
        "id": "J6m__Hnd_5q5"
      },
      "source": [
        "# Multilanguage topic modeling with BERT\n",
        "- badges: true\n",
        "- comments: true\n",
        "- categories: [BERT,topics,nlp]\n",
        "\n"
      ]
    },
    {
      "cell_type": "code",
      "metadata": {
        "id": "hioZnbDj9Bhd",
        "colab": {
          "base_uri": "https://localhost:8080/",
          "height": 1000
        },
        "outputId": "6344a733-2f7c-4337-e222-db93a3239508"
      },
      "source": [
        "#collapse-output\n",
        "!pip install contextualized_topic_models\n",
        "!pip uninstall transformers -y\n",
        "!pip install transformers==3.0.2"
      ],
      "execution_count": null,
      "outputs": [
        {
          "output_type": "stream",
          "text": [
            "Requirement already satisfied: contextualized_topic_models in /usr/local/lib/python3.6/dist-packages (1.4.2)\n",
            "Requirement already satisfied: torchvision==0.7.0 in /usr/local/lib/python3.6/dist-packages (from contextualized_topic_models) (0.7.0+cu101)\n",
            "Requirement already satisfied: gensim==3.8.3 in /usr/local/lib/python3.6/dist-packages (from contextualized_topic_models) (3.8.3)\n",
            "Requirement already satisfied: wheel==0.33.6 in /usr/local/lib/python3.6/dist-packages (from contextualized_topic_models) (0.33.6)\n",
            "Requirement already satisfied: pytest-runner==5.1 in /usr/local/lib/python3.6/dist-packages (from contextualized_topic_models) (5.1)\n",
            "Requirement already satisfied: pytest==4.6.5 in /usr/local/lib/python3.6/dist-packages (from contextualized_topic_models) (4.6.5)\n",
            "Requirement already satisfied: numpy==1.19.1 in /usr/local/lib/python3.6/dist-packages (from contextualized_topic_models) (1.19.1)\n",
            "Requirement already satisfied: sentence-transformers==0.3.2 in /usr/local/lib/python3.6/dist-packages (from contextualized_topic_models) (0.3.2)\n",
            "Requirement already satisfied: torch==1.6.0 in /usr/local/lib/python3.6/dist-packages (from contextualized_topic_models) (1.6.0)\n",
            "Requirement already satisfied: pillow>=4.1.1 in /usr/local/lib/python3.6/dist-packages (from torchvision==0.7.0->contextualized_topic_models) (7.0.0)\n",
            "Requirement already satisfied: six>=1.5.0 in /usr/local/lib/python3.6/dist-packages (from gensim==3.8.3->contextualized_topic_models) (1.15.0)\n",
            "Requirement already satisfied: scipy>=0.18.1 in /usr/local/lib/python3.6/dist-packages (from gensim==3.8.3->contextualized_topic_models) (1.4.1)\n",
            "Requirement already satisfied: smart-open>=1.8.1 in /usr/local/lib/python3.6/dist-packages (from gensim==3.8.3->contextualized_topic_models) (2.1.0)\n",
            "Requirement already satisfied: importlib-metadata>=0.12 in /usr/local/lib/python3.6/dist-packages (from pytest==4.6.5->contextualized_topic_models) (1.7.0)\n",
            "Requirement already satisfied: more-itertools>=4.0.0; python_version > \"2.7\" in /usr/local/lib/python3.6/dist-packages (from pytest==4.6.5->contextualized_topic_models) (8.4.0)\n",
            "Requirement already satisfied: atomicwrites>=1.0 in /usr/local/lib/python3.6/dist-packages (from pytest==4.6.5->contextualized_topic_models) (1.4.0)\n",
            "Requirement already satisfied: py>=1.5.0 in /usr/local/lib/python3.6/dist-packages (from pytest==4.6.5->contextualized_topic_models) (1.9.0)\n",
            "Requirement already satisfied: pluggy<1.0,>=0.12 in /usr/local/lib/python3.6/dist-packages (from pytest==4.6.5->contextualized_topic_models) (0.13.1)\n",
            "Requirement already satisfied: attrs>=17.4.0 in /usr/local/lib/python3.6/dist-packages (from pytest==4.6.5->contextualized_topic_models) (20.1.0)\n",
            "Requirement already satisfied: packaging in /usr/local/lib/python3.6/dist-packages (from pytest==4.6.5->contextualized_topic_models) (20.4)\n",
            "Requirement already satisfied: wcwidth in /usr/local/lib/python3.6/dist-packages (from pytest==4.6.5->contextualized_topic_models) (0.2.5)\n",
            "Requirement already satisfied: scikit-learn in /usr/local/lib/python3.6/dist-packages (from sentence-transformers==0.3.2->contextualized_topic_models) (0.22.2.post1)\n",
            "Requirement already satisfied: tqdm in /usr/local/lib/python3.6/dist-packages (from sentence-transformers==0.3.2->contextualized_topic_models) (4.41.1)\n",
            "Requirement already satisfied: transformers>=3.0.2 in /usr/local/lib/python3.6/dist-packages (from sentence-transformers==0.3.2->contextualized_topic_models) (3.1.0)\n",
            "Requirement already satisfied: nltk in /usr/local/lib/python3.6/dist-packages (from sentence-transformers==0.3.2->contextualized_topic_models) (3.2.5)\n",
            "Requirement already satisfied: future in /usr/local/lib/python3.6/dist-packages (from torch==1.6.0->contextualized_topic_models) (0.16.0)\n",
            "Requirement already satisfied: boto in /usr/local/lib/python3.6/dist-packages (from smart-open>=1.8.1->gensim==3.8.3->contextualized_topic_models) (2.49.0)\n",
            "Requirement already satisfied: requests in /usr/local/lib/python3.6/dist-packages (from smart-open>=1.8.1->gensim==3.8.3->contextualized_topic_models) (2.23.0)\n",
            "Requirement already satisfied: boto3 in /usr/local/lib/python3.6/dist-packages (from smart-open>=1.8.1->gensim==3.8.3->contextualized_topic_models) (1.14.48)\n",
            "Requirement already satisfied: zipp>=0.5 in /usr/local/lib/python3.6/dist-packages (from importlib-metadata>=0.12->pytest==4.6.5->contextualized_topic_models) (3.1.0)\n",
            "Requirement already satisfied: pyparsing>=2.0.2 in /usr/local/lib/python3.6/dist-packages (from packaging->pytest==4.6.5->contextualized_topic_models) (2.4.7)\n",
            "Requirement already satisfied: joblib>=0.11 in /usr/local/lib/python3.6/dist-packages (from scikit-learn->sentence-transformers==0.3.2->contextualized_topic_models) (0.16.0)\n",
            "Requirement already satisfied: sacremoses in /usr/local/lib/python3.6/dist-packages (from transformers>=3.0.2->sentence-transformers==0.3.2->contextualized_topic_models) (0.0.43)\n",
            "Requirement already satisfied: tokenizers==0.8.1.rc2 in /usr/local/lib/python3.6/dist-packages (from transformers>=3.0.2->sentence-transformers==0.3.2->contextualized_topic_models) (0.8.1rc2)\n",
            "Requirement already satisfied: filelock in /usr/local/lib/python3.6/dist-packages (from transformers>=3.0.2->sentence-transformers==0.3.2->contextualized_topic_models) (3.0.12)\n",
            "Requirement already satisfied: dataclasses; python_version < \"3.7\" in /usr/local/lib/python3.6/dist-packages (from transformers>=3.0.2->sentence-transformers==0.3.2->contextualized_topic_models) (0.7)\n",
            "Requirement already satisfied: regex!=2019.12.17 in /usr/local/lib/python3.6/dist-packages (from transformers>=3.0.2->sentence-transformers==0.3.2->contextualized_topic_models) (2019.12.20)\n",
            "Requirement already satisfied: sentencepiece!=0.1.92 in /usr/local/lib/python3.6/dist-packages (from transformers>=3.0.2->sentence-transformers==0.3.2->contextualized_topic_models) (0.1.91)\n",
            "Requirement already satisfied: urllib3!=1.25.0,!=1.25.1,<1.26,>=1.21.1 in /usr/local/lib/python3.6/dist-packages (from requests->smart-open>=1.8.1->gensim==3.8.3->contextualized_topic_models) (1.24.3)\n",
            "Requirement already satisfied: certifi>=2017.4.17 in /usr/local/lib/python3.6/dist-packages (from requests->smart-open>=1.8.1->gensim==3.8.3->contextualized_topic_models) (2020.6.20)\n",
            "Requirement already satisfied: idna<3,>=2.5 in /usr/local/lib/python3.6/dist-packages (from requests->smart-open>=1.8.1->gensim==3.8.3->contextualized_topic_models) (2.10)\n",
            "Requirement already satisfied: chardet<4,>=3.0.2 in /usr/local/lib/python3.6/dist-packages (from requests->smart-open>=1.8.1->gensim==3.8.3->contextualized_topic_models) (3.0.4)\n",
            "Requirement already satisfied: jmespath<1.0.0,>=0.7.1 in /usr/local/lib/python3.6/dist-packages (from boto3->smart-open>=1.8.1->gensim==3.8.3->contextualized_topic_models) (0.10.0)\n",
            "Requirement already satisfied: s3transfer<0.4.0,>=0.3.0 in /usr/local/lib/python3.6/dist-packages (from boto3->smart-open>=1.8.1->gensim==3.8.3->contextualized_topic_models) (0.3.3)\n",
            "Requirement already satisfied: botocore<1.18.0,>=1.17.48 in /usr/local/lib/python3.6/dist-packages (from boto3->smart-open>=1.8.1->gensim==3.8.3->contextualized_topic_models) (1.17.48)\n",
            "Requirement already satisfied: click in /usr/local/lib/python3.6/dist-packages (from sacremoses->transformers>=3.0.2->sentence-transformers==0.3.2->contextualized_topic_models) (7.1.2)\n",
            "Requirement already satisfied: docutils<0.16,>=0.10 in /usr/local/lib/python3.6/dist-packages (from botocore<1.18.0,>=1.17.48->boto3->smart-open>=1.8.1->gensim==3.8.3->contextualized_topic_models) (0.15.2)\n",
            "Requirement already satisfied: python-dateutil<3.0.0,>=2.1 in /usr/local/lib/python3.6/dist-packages (from botocore<1.18.0,>=1.17.48->boto3->smart-open>=1.8.1->gensim==3.8.3->contextualized_topic_models) (2.8.1)\n",
            "Uninstalling transformers-3.1.0:\n",
            "  Successfully uninstalled transformers-3.1.0\n",
            "Collecting transformers==3.0.2\n",
            "\u001b[?25l  Downloading https://files.pythonhosted.org/packages/27/3c/91ed8f5c4e7ef3227b4119200fc0ed4b4fd965b1f0172021c25701087825/transformers-3.0.2-py3-none-any.whl (769kB)\n",
            "\u001b[K     |████████████████████████████████| 778kB 3.4MB/s \n",
            "\u001b[?25hRequirement already satisfied: sacremoses in /usr/local/lib/python3.6/dist-packages (from transformers==3.0.2) (0.0.43)\n",
            "Requirement already satisfied: filelock in /usr/local/lib/python3.6/dist-packages (from transformers==3.0.2) (3.0.12)\n",
            "Requirement already satisfied: dataclasses; python_version < \"3.7\" in /usr/local/lib/python3.6/dist-packages (from transformers==3.0.2) (0.7)\n",
            "Requirement already satisfied: packaging in /usr/local/lib/python3.6/dist-packages (from transformers==3.0.2) (20.4)\n",
            "Requirement already satisfied: regex!=2019.12.17 in /usr/local/lib/python3.6/dist-packages (from transformers==3.0.2) (2019.12.20)\n",
            "Requirement already satisfied: requests in /usr/local/lib/python3.6/dist-packages (from transformers==3.0.2) (2.23.0)\n",
            "Requirement already satisfied: numpy in /usr/local/lib/python3.6/dist-packages (from transformers==3.0.2) (1.19.1)\n",
            "Collecting tokenizers==0.8.1.rc1\n",
            "\u001b[?25l  Downloading https://files.pythonhosted.org/packages/40/d0/30d5f8d221a0ed981a186c8eb986ce1c94e3a6e87f994eae9f4aa5250217/tokenizers-0.8.1rc1-cp36-cp36m-manylinux1_x86_64.whl (3.0MB)\n",
            "\u001b[K     |████████████████████████████████| 3.0MB 17.9MB/s \n",
            "\u001b[?25hRequirement already satisfied: sentencepiece!=0.1.92 in /usr/local/lib/python3.6/dist-packages (from transformers==3.0.2) (0.1.91)\n",
            "Requirement already satisfied: tqdm>=4.27 in /usr/local/lib/python3.6/dist-packages (from transformers==3.0.2) (4.41.1)\n",
            "Requirement already satisfied: joblib in /usr/local/lib/python3.6/dist-packages (from sacremoses->transformers==3.0.2) (0.16.0)\n",
            "Requirement already satisfied: click in /usr/local/lib/python3.6/dist-packages (from sacremoses->transformers==3.0.2) (7.1.2)\n",
            "Requirement already satisfied: six in /usr/local/lib/python3.6/dist-packages (from sacremoses->transformers==3.0.2) (1.15.0)\n",
            "Requirement already satisfied: pyparsing>=2.0.2 in /usr/local/lib/python3.6/dist-packages (from packaging->transformers==3.0.2) (2.4.7)\n",
            "Requirement already satisfied: idna<3,>=2.5 in /usr/local/lib/python3.6/dist-packages (from requests->transformers==3.0.2) (2.10)\n",
            "Requirement already satisfied: urllib3!=1.25.0,!=1.25.1,<1.26,>=1.21.1 in /usr/local/lib/python3.6/dist-packages (from requests->transformers==3.0.2) (1.24.3)\n",
            "Requirement already satisfied: chardet<4,>=3.0.2 in /usr/local/lib/python3.6/dist-packages (from requests->transformers==3.0.2) (3.0.4)\n",
            "Requirement already satisfied: certifi>=2017.4.17 in /usr/local/lib/python3.6/dist-packages (from requests->transformers==3.0.2) (2020.6.20)\n",
            "Installing collected packages: tokenizers, transformers\n",
            "  Found existing installation: tokenizers 0.8.1rc2\n",
            "    Uninstalling tokenizers-0.8.1rc2:\n",
            "      Successfully uninstalled tokenizers-0.8.1rc2\n",
            "Successfully installed tokenizers-0.8.1rc1 transformers-3.0.2\n"
          ],
          "name": "stdout"
        },
        {
          "output_type": "display_data",
          "data": {
            "application/vnd.colab-display-data+json": {
              "pip_warning": {
                "packages": [
                  "tokenizers",
                  "transformers"
                ]
              }
            }
          },
          "metadata": {
            "tags": []
          }
        }
      ]
    },
    {
      "cell_type": "code",
      "metadata": {
        "pycharm": {
          "is_executing": false
        },
        "id": "3Wx3kWb189CJ"
      },
      "source": [
        "import os\n",
        "import numpy as np\n",
        "import pickle\n",
        "from contextualized_topic_models.models.ctm import CTM\n",
        "from contextualized_topic_models.utils.data_preparation import bert_embeddings_from_file, bert_embeddings_from_list\n",
        "from contextualized_topic_models.datasets.dataset import CTMDataset\n",
        "from contextualized_topic_models.utils.data_preparation import TextHandler"
      ],
      "execution_count": null,
      "outputs": []
    },
    {
      "cell_type": "code",
      "metadata": {
        "id": "A4XXyiiM-PjW",
        "colab": {
          "base_uri": "https://localhost:8080/",
          "height": 208
        },
        "outputId": "c0f2fbb3-7c8b-4eba-cdd8-643158506bf6"
      },
      "source": [
        "!curl -s https://raw.githubusercontent.com/MilaNLProc/contextualized-topic-models/master/contextualized_topic_models/data/gnews/GoogleNews.txt | head -n1000 > googlenews.txt\n",
        "!head googlenews.txt\n",
        "!cat googlenews.txt | wc -l"
      ],
      "execution_count": null,
      "outputs": [
        {
          "output_type": "stream",
          "text": [
            "centrepoint winter white gala london\n",
            "mourinho seek killer instinct\n",
            "roundup golden globe won seduced johansson voice\n",
            "travel disruption mount storm cold air sweep south florida\n",
            "wes welker blame costly turnover\n",
            "psalm book fetch record ny auction ktvn channel reno\n",
            "surface review comparison window powered tablet pitted\n",
            "scientist unreported fish trap space\n",
            "nokia lumia launch\n",
            "edward snowden latest leak nsa monitored online porn habit radicalizers\n",
            "1000\n"
          ],
          "name": "stdout"
        }
      ]
    },
    {
      "cell_type": "markdown",
      "metadata": {
        "id": "qtBoSAxM89CR"
      },
      "source": [
        "### Load The Data"
      ]
    },
    {
      "cell_type": "code",
      "metadata": {
        "pycharm": {
          "is_executing": false
        },
        "id": "7qupTTQq89CS"
      },
      "source": [
        "file_name = \"googlenews.txt\"\n",
        "handler = TextHandler(file_name)\n",
        "handler.prepare() # create vocabulary and training data "
      ],
      "execution_count": null,
      "outputs": []
    },
    {
      "cell_type": "code",
      "metadata": {
        "id": "nuT2i28LAUaz"
      },
      "source": [
        "# generate BERT data\n",
        "train_bert = bert_embeddings_from_file(file_name, \"distiluse-base-multilingual-cased\")\n",
        "training_dataset = CTMDataset(handler.bow, train_bert, handler.idx2token)"
      ],
      "execution_count": null,
      "outputs": []
    },
    {
      "cell_type": "markdown",
      "metadata": {
        "id": "hPVePLiE89CW"
      },
      "source": [
        "### Train the Fully Contextualized Topic Model"
      ]
    },
    {
      "cell_type": "code",
      "metadata": {
        "pycharm": {
          "name": "#%%\n"
        },
        "id": "ae58lc8J89CX"
      },
      "source": [
        "num_topics = 50\n",
        "ctm = CTM(input_size=len(handler.vocab), bert_input_size=512, num_epochs=100, hidden_sizes = (100, ),\n",
        "            inference_type=\"contextual\", n_components=num_topics, num_data_loader_workers=0)\n",
        "\n",
        "ctm.fit(training_dataset) # run the model"
      ],
      "execution_count": null,
      "outputs": []
    },
    {
      "cell_type": "code",
      "metadata": {
        "pycharm": {
          "is_executing": false
        },
        "id": "YFyrdTXB89Cb",
        "colab": {
          "base_uri": "https://localhost:8080/",
          "height": 884
        },
        "outputId": "2d612488-57ce-492e-d120-de08e702f2ba"
      },
      "source": [
        "ctm.get_topic_lists(5) # get the top-5 words lists"
      ],
      "execution_count": null,
      "outputs": [
        {
          "output_type": "execute_result",
          "data": {
            "text/plain": [
              "[['kim', 'west', 'kanye', 'kardashian', 'bound'],\n",
              " ['day', 'thanksgiving', 'parade', 'macy', 'packer'],\n",
              " ['patriot', 'bronco', 'pat', 'packer', 'loss'],\n",
              " ['xbox', 'microsoft', 'p', 'game', 'console'],\n",
              " ['government', 'political', 'thai', 'party', 'protest'],\n",
              " ['oldboy', 'brolin', 'josh', 'lee', 'spike'],\n",
              " ['google', 'chrome', 'search', 'extension', 'voice'],\n",
              " ['johansson', 'globe', 'golden', 'scarlett', 'ineligible'],\n",
              " ['star', 'dancing', 'amber', 'riley', 'win'],\n",
              " ['police', 'guilty', 'watkins', 'case', 'lostprophets'],\n",
              " ['san', 'andreas', 'gta', 'mobile', 'android'],\n",
              " ['flat', 'future', 'record', 'level', 'p'],\n",
              " ['thanksgiving', 'day', 'parade', 'thanksgivukkah', 'holiday'],\n",
              " ['jos', 'wearhouse', 'men', 'bank', 'baldwin'],\n",
              " ['prince', 'william', 'swift', 'jovi', 'bon'],\n",
              " ['porn', 'nsa', 'habit', 'radicalizers', 'spying'],\n",
              " ['pope', 'church', 'putin', 'issue', 'coalition'],\n",
              " ['report', 'benghazi', 'security', 'baldwin', 'alec'],\n",
              " ['china', 'zone', 'flight', 'airspace', 'disputed'],\n",
              " ['storm', 'parade', 'macy', 'balloon', 'travel'],\n",
              " ['bank', 'men', 'palestinian', 'jos', 'wearhouse'],\n",
              " ['review', 'homefront', 'frozen', 'inch', 'oldboy'],\n",
              " ['bronco', 'packer', 'seahawks', 'rodgers', 'patriot'],\n",
              " ['frozen', 'heart', 'review', 'homefront', 'detroit'],\n",
              " ['hiv', 'meningitis', 'flu', 'greece', 'health'],\n",
              " ['black', 'friday', 'nativity', 'deal', 'monday'],\n",
              " ['aarushi', 'hiv', 'killing', 'teen', 'murder'],\n",
              " ['west', 'kanye', 'kim', 'seth', 'bound'],\n",
              " ['cb', 'seahawks', 'dallas', 'chelsea', 'browner'],\n",
              " ['hp', 'revenue', 'raise', 'week', 'shopping'],\n",
              " ['lumia', 'nokia', 'price', 'power', 'uk'],\n",
              " ['typhoon', 'philippine', 'haiyan', 'climate', 'gain'],\n",
              " ['african', 'france', 'central', 'republic', 'troop'],\n",
              " ['parade', 'macy', 'carlos', 'beltran', 'york'],\n",
              " ['kim', 'kardashian', 'video', 'west', 'bound'],\n",
              " ['hewitt', 'love', 'star', 'jennifer', 'dancing'],\n",
              " ['swift', 'william', 'taylor', 'prince', 'jovi'],\n",
              " ['launch', 'microsoft', 'chrome', 'google', 'search'],\n",
              " ['pakistan', 'army', 'chief', 'sharif', 'pm'],\n",
              " ['air', 'china', 'zone', 'sea', 'disputed'],\n",
              " ['west', 'kanye', 'bound', 'kim', 'video'],\n",
              " ['ison', 'comet', 'raptor', 'sun', 'bonobo'],\n",
              " ['irs', 'google', 'tax', 'group', 'glass'],\n",
              " ['net', 'review', 'preview', 'disney', 'movie'],\n",
              " ['nokia', 'lumia', 'tablet', 'window', 'moto'],\n",
              " ['three', 'seahawks', 'year', 'burning', 'officer'],\n",
              " ['report', 'burning', 'officer', 'storm', 'truck'],\n",
              " ['girl', 'baby', 'guilty', 'lostprophets', 'hewitt'],\n",
              " ['black', 'friday', 'sale', 'deal', 'monday'],\n",
              " ['heart', 'woman', 'pill', 'frozen', 'crisis']]"
            ]
          },
          "metadata": {
            "tags": []
          },
          "execution_count": 15
        }
      ]
    },
    {
      "cell_type": "code",
      "metadata": {
        "id": "ZxgsDR1QQEj6",
        "colab": {
          "base_uri": "https://localhost:8080/",
          "height": 104
        },
        "outputId": "d6d121f8-80e1-4482-ef5b-f29f8a90140c"
      },
      "source": [
        "!tail -n 5 googlenews.txt > test.txt\n",
        "!cat test.txt"
      ],
      "execution_count": null,
      "outputs": [
        {
          "output_type": "stream",
          "text": [
            "ray whitney return will dallas star huge boost offensively\n",
            "s relied intermediary probe spacex sept upper stage\n",
            "nokia lumia tablet kill surface\n",
            "lakers net preview\n",
            "neighbor helped save girl imprisoned year speaks\n"
          ],
          "name": "stdout"
        }
      ]
    },
    {
      "cell_type": "code",
      "metadata": {
        "id": "JvEb-Ww5Pb5y"
      },
      "source": [
        "test_handler = TextHandler(\"test.txt\")\n",
        "test_handler.prepare() # create vocabulary and training data\n",
        "\n",
        "# generate BERT data\n",
        "testing_bert = bert_embeddings_from_file(\"test.txt\", \"distiluse-base-multilingual-cased\")\n",
        "testing_dataset = CTMDataset(test_handler.bow, testing_bert, test_handler.idx2token)"
      ],
      "execution_count": null,
      "outputs": []
    },
    {
      "cell_type": "code",
      "metadata": {
        "id": "Q4XlUscyQs05",
        "colab": {
          "base_uri": "https://localhost:8080/",
          "height": 34
        },
        "outputId": "80b589dd-9602-4120-f79e-3a53e7f0ff28"
      },
      "source": [
        "\n",
        "# we sample n times and average to get a more accurate estimate of the document-topic distribution\n",
        "predicted_topics = [] \n",
        "thetas = np.zeros((len(testing_dataset), num_topics))\n",
        "for a in range(0, 100):\n",
        "    thetas = thetas + np.array(ctm.get_thetas(testing_dataset))\n",
        "    \n",
        "for idd in range(0, len(testing_dataset)):\n",
        "    \n",
        "    thetas[idd] = thetas[idd]/np.sum(thetas[idd])\n",
        "    predicted_topic = np.argmax(thetas[idd]) \n",
        "    predicted_topics.append(predicted_topic)\n",
        "\n",
        "# document-topic distribution , list of the topic predicted for each testing document\n",
        "# thetas, \n",
        "predicted_topics "
      ],
      "execution_count": null,
      "outputs": [
        {
          "output_type": "execute_result",
          "data": {
            "text/plain": [
              "[22, 41, 44, 23, 47]"
            ]
          },
          "metadata": {
            "tags": []
          },
          "execution_count": 31
        }
      ]
    },
    {
      "cell_type": "code",
      "metadata": {
        "id": "wOwmeniKRnWK",
        "colab": {
          "base_uri": "https://localhost:8080/",
          "height": 34
        },
        "outputId": "63af285e-aaa5-4be2-ae96-392be2c86faa"
      },
      "source": [
        "test_handler.load_text_file()[1]"
      ],
      "execution_count": null,
      "outputs": [
        {
          "output_type": "execute_result",
          "data": {
            "application/vnd.google.colaboratory.intrinsic+json": {
              "type": "string"
            },
            "text/plain": [
              "'s relied intermediary probe spacex sept upper stage\\n'"
            ]
          },
          "metadata": {
            "tags": []
          },
          "execution_count": 51
        }
      ]
    },
    {
      "cell_type": "code",
      "metadata": {
        "id": "z8m6Dz3ESB1K",
        "colab": {
          "base_uri": "https://localhost:8080/",
          "height": 364
        },
        "outputId": "d66789bc-d669-409d-df9b-6eb5c9176e91"
      },
      "source": [
        "ctm.get_topic_lists(20)[41]"
      ],
      "execution_count": null,
      "outputs": [
        {
          "output_type": "execute_result",
          "data": {
            "text/plain": [
              "['ison',\n",
              " 'comet',\n",
              " 'raptor',\n",
              " 'sun',\n",
              " 'bonobo',\n",
              " 'dna',\n",
              " 'flying',\n",
              " 'trouble',\n",
              " 'stereo',\n",
              " 'seahorse',\n",
              " 'researcher',\n",
              " 'preview',\n",
              " 'spacecraft',\n",
              " 'century',\n",
              " 'jellyfish',\n",
              " 'testing',\n",
              " 'minute',\n",
              " 'net',\n",
              " 'spectacular',\n",
              " 'congo']"
            ]
          },
          "metadata": {
            "tags": []
          },
          "execution_count": 52
        }
      ]
    }
  ]
}